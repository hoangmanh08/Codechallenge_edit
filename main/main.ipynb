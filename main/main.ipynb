{
 "cells": [
  {
   "cell_type": "code",
   "execution_count": 9,
   "metadata": {},
   "outputs": [],
   "source": [
    "import pandas as pd\n",
    "\n",
    "# Đọc dữ liệu từ file CSV\n",
    "df = pd.read_csv('requests1.csv')"
   ]
  },
  {
   "cell_type": "code",
   "execution_count": 10,
   "metadata": {},
   "outputs": [
    {
     "name": "stdout",
     "output_type": "stream",
     "text": [
      "Tổng số lượng requests tới server: \n",
      " Timestamp        11874\n",
      "Status           11874\n",
      "Response Time    11874\n",
      "Client IP        11874\n",
      "Method           11874\n",
      "Endpoint         11874\n",
      "dtype: int64\n"
     ]
    }
   ],
   "source": [
    "print(\"Tổng số lượng requests tới server: \\n\", df.count())"
   ]
  },
  {
   "cell_type": "code",
   "execution_count": 12,
   "metadata": {},
   "outputs": [
    {
     "name": "stdout",
     "output_type": "stream",
     "text": [
      "Số lượng các Method:  3\n",
      "['GET' 'POST' 'HEAD']\n"
     ]
    }
   ],
   "source": [
    "print(\"Số lượng các Method: \", df[\"Method\"].nunique())\n",
    "print(df[\"Method\"].unique())"
   ]
  },
  {
   "cell_type": "code",
   "execution_count": 13,
   "metadata": {},
   "outputs": [
    {
     "name": "stdout",
     "output_type": "stream",
     "text": [
      "Số lượng các API Endpoint:  9\n",
      "['/api/tags' '/api/version' '/api/chat' '/api/show' '/api/generate'\n",
      " '/api/embed' '/' '/favicon.ico' '/api/ps']\n"
     ]
    }
   ],
   "source": [
    "print(\"Số lượng các API Endpoint: \", df[\"Endpoint\"].nunique())\n",
    "print(df[\"Endpoint\"].unique())"
   ]
  },
  {
   "cell_type": "code",
   "execution_count": null,
   "metadata": {},
   "outputs": [],
   "source": [
    "# Thống kê số lượng tin nhắn của mỗi thành viên\n",
    "count = df['Client IP'].nunique()\n",
    "message_count = df['Client IP'].value_counts(ascending=True)\n",
    "\n",
    "# Xuất kết quả\n",
    "print(\"Số lượng IP:\", count)\n",
    "print(\"Thống kê số lần gửi request:\")\n",
    "print(message_count)\n",
    "\n",
    "# # Lưu kết quả vào file Excel (tùy chọn)\n",
    "# message_count.to_excel('message_statistics.xlsx')"
   ]
  }
 ],
 "metadata": {
  "kernelspec": {
   "display_name": "Python 3",
   "language": "python",
   "name": "python3"
  },
  "language_info": {
   "codemirror_mode": {
    "name": "ipython",
    "version": 3
   },
   "file_extension": ".py",
   "mimetype": "text/x-python",
   "name": "python",
   "nbconvert_exporter": "python",
   "pygments_lexer": "ipython3",
   "version": "3.11.2"
  }
 },
 "nbformat": 4,
 "nbformat_minor": 2
}
